{
 "cells": [
  {
   "cell_type": "markdown",
   "metadata": {},
   "source": [
    "# Using functions to reduce code repetition\n",
    "\n",
    "This code evolved over time, and the eventual state has me printing the velocity in multiple places with different formats. This triggers my OCD, but also isn't good practice.\n"
   ]
  },
  {
   "cell_type": "code",
   "execution_count": null,
   "metadata": {},
   "outputs": [],
   "source": [
    "# Example code with lots of repetition of similar tasks\n",
    "\n",
    "print(\"Velocity is 12 m/s\")\n",
    "\n",
    "velocity = 12 #m/s\n",
    "print(\"velocity: {0:.{1}f} km/h\".format(velocity /1e3*60*60, 2))\n",
    "\n",
    "# then some time later on...\n",
    "velocity = 15\n",
    "\n",
    "# ....\n",
    "\n",
    "print(\"Velocity is {0} km/s\".format(velocity *1e3*60*60))"
   ]
  },
  {
   "cell_type": "markdown",
   "metadata": {},
   "source": [
    "Change the above to have uniform formatting and units and to be correct.\n",
    "\n",
    "How many places did you need to look to make sure you got all the errors?\n",
    "\n",
    "Now imagine that you have pages and pages of code - not so nice.\n"
   ]
  },
  {
   "cell_type": "markdown",
   "metadata": {},
   "source": [
    "## DRY your code\n",
    "\n",
    "In the example below we take the common task of printing the velocity and put it into a function. This means there is only one place we need to look for errors, to make changes, and we get consistent output (though in this example it's currently wrong!).\n",
    "\n",
    "Removing the repeated code is the essence of DRY programming.\n"
   ]
  },
  {
   "cell_type": "code",
   "execution_count": null,
   "metadata": {},
   "outputs": [],
   "source": [
    "MS_TO_KMH = 1e3/3600 # *multiplicative* factor to convert m/s into km/h\n",
    "\n",
    "def print_velocity(vel):\n",
    "    \"\"\"\n",
    "    Prints the velocity in a standard format in km/h.\n",
    "    \n",
    "    Parameters\n",
    "    ----------\n",
    "    vel: float\n",
    "        velocity in m/s\n",
    "    \"\"\"\n",
    "    print(\"Velocity is {0:.3f} km/h\".format(vel*MS_TO_KMH))"
   ]
  },
  {
   "cell_type": "code",
   "execution_count": null,
   "metadata": {},
   "outputs": [],
   "source": [
    "# one time use\n",
    "print_velocity(12.0)\n",
    "\n",
    "# later on in a loop maybe?\n",
    "velocity = 12\n",
    "print_velocity(velocity)\n",
    "\n",
    "# do some wrangling and calculations that result in:\n",
    "velocity = 15\n",
    "# and then later ...\n",
    "print_velocity(velocity)\n",
    "\n"
   ]
  },
  {
   "cell_type": "markdown",
   "metadata": {},
   "source": [
    "Change the above code so that the formatting looks like 43.2 km/h, and so that it actually gives the right result."
   ]
  },
  {
   "cell_type": "code",
   "execution_count": null,
   "metadata": {},
   "outputs": [],
   "source": []
  }
 ],
 "metadata": {
  "kernelspec": {
   "display_name": "Python 3.8.10 64-bit",
   "language": "python",
   "name": "python3"
  },
  "language_info": {
   "codemirror_mode": {
    "name": "ipython",
    "version": 3
   },
   "file_extension": ".py",
   "mimetype": "text/x-python",
   "name": "python",
   "nbconvert_exporter": "python",
   "pygments_lexer": "ipython3",
   "version": "3.8.10"
  },
  "vscode": {
   "interpreter": {
    "hash": "916dbcbb3f70747c44a77c7bcd40155683ae19c65e1c03b4aa3499c5328201f1"
   }
  }
 },
 "nbformat": 4,
 "nbformat_minor": 4
}
