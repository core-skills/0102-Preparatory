{
 "cells": [
  {
   "cell_type": "markdown",
   "metadata": {},
   "source": [
    "# How to use a Jupyter Notebook\n",
    "\n",
    "\n",
    "Jupyter notebooks allow you to combine executable code with explanatory information such as markdown text, LaTex equations, images and interactive visualisations:\n",
    "![image](https://jupyterlab.readthedocs.io/en/stable/_images/notebook_ui.png)\n",
    "\n",
    "\n",
    "\n",
    "## More info on notebooks (Classic and in Jupyter Lab)\n",
    "[Jupyter notebooks beginner guide](https://jupyter-notebook-beginner-guide.readthedocs.io/en/latest/index.html)\n",
    "\n",
    "[Jupyterlab documentation](https://jupyterlab.readthedocs.io/en/stable/user/notebook.html)\n",
    "\n",
    "\n",
    "## General things to note\n",
    "- The file autosaves\n",
    "- You run a cell with 'shift + enter' or using the run button in the tool bar\n",
    "- If you run a cell with **option + enter** it will also create a new cell below\n",
    "- If you opened this a classic notebook you can check *Help > Keyboard Shortcuts* else see the *Cheatsheet* for more info\n",
    "\n",
    "\n",
    "- The notebook has different type of cells: Code and Markdown are most commonly used\n",
    "- **Code** cells expect code for the Kernel you have chosen, syntax highlighting is available, comments in the code are specified with # -> code after this will not be executed"
   ]
  },
  {
   "cell_type": "code",
   "execution_count": null,
   "metadata": {},
   "outputs": [],
   "source": [
    "# this is a code cell\n",
    "2+2"
   ]
  },
  {
   "cell_type": "markdown",
   "metadata": {},
   "source": [
    "- **Markdown** cells allow you to right report style text, using markdown for formatting the style (e.g. Headers, bold face etc)"
   ]
  },
  {
   "cell_type": "markdown",
   "metadata": {},
   "source": [
    "this is a markdown cell\n",
    "\n",
    "try executing it with 'shift + Enter' when it is highlighted"
   ]
  },
  {
   "cell_type": "markdown",
   "metadata": {},
   "source": [
    "## Edit and command mode\n",
    "\n",
    "As you might have realised the cell you are **editing** is highlighted by a blue bar to its left and has a blue box around it.\n",
    "\n",
    "If you click 'shift + Enter' on such a cell it gets executed, i.e. the code or markdown within it gets evaluated and the outputs are shown below the cell or the markdown gets rendered.\n",
    "\n",
    "In **command** mode you will only see the blue bar to the left. In this case you can use keyboard short cuts to edit the notebook as a whole, e.g. move cells up and down or change their type.\n"
   ]
  },
  {
   "cell_type": "markdown",
   "metadata": {},
   "source": [
    "## Keyboard shortcuts\n",
    "\n",
    "The most important keyboard shortcuts are `Enter`, which enters edit mode, and `Esc`, which enters command mode.\n",
    "\n",
    "Check out the [documentation](https://jupyter-notebook.readthedocs.io/en/stable/examples/Notebook/Notebook%20Basics.html#Keyboard-Navigation) for more useful shortcuts.\n"
   ]
  },
  {
   "cell_type": "markdown",
   "metadata": {},
   "source": [
    "## Kernels\n",
    "\n",
    "**Kernels** are the underlying programming language the notebook is using.\n",
    "\n",
    "You might only have Python installed for now, but Jupyter stands for Julia, Python, R and it supports all this languages plus more.\n",
    "\n",
    "To change your kernel go to *Kernel>Change Kernel*"
   ]
  }
 ],
 "metadata": {
  "kernelspec": {
   "display_name": "Python 3",
   "language": "python",
   "name": "python3"
  },
  "language_info": {
   "codemirror_mode": {
    "name": "ipython",
    "version": 3
   },
   "file_extension": ".py",
   "mimetype": "text/x-python",
   "name": "python",
   "nbconvert_exporter": "python",
   "pygments_lexer": "ipython3",
   "version": "3.8.10"
  }
 },
 "nbformat": 4,
 "nbformat_minor": 4
}
