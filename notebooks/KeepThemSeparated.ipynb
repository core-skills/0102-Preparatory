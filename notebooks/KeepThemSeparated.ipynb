{
 "cells": [
  {
   "cell_type": "markdown",
   "metadata": {},
   "source": [
    "# Separating Data and Code\n",
    "Good coding practice is to keep your data and code separate.\n",
    "This means not having your data embedded within the code itself.\n",
    "As a result, you will be able to apply the same code to different data sets."
   ]
  },
  {
   "cell_type": "markdown",
   "metadata": {},
   "source": [
    "## The bad way"
   ]
  },
  {
   "cell_type": "code",
   "execution_count": null,
   "metadata": {},
   "outputs": [],
   "source": [
    "# import the various modules that we'll need for this lesson\n",
    "import numpy as np\n",
    "import pandas as pd\n",
    "from matplotlib import pyplot\n",
    "import scipy\n",
    "import scipy.ndimage"
   ]
  },
  {
   "cell_type": "code",
   "execution_count": null,
   "metadata": {},
   "outputs": [],
   "source": [
    "# make some random data\n",
    "a = np.random.normal(loc=0, scale=1, size=1000)\n",
    "smoothed = scipy.ndimage.gaussian_filter1d(a, sigma=2)\n",
    "\n",
    "# plot the data\n",
    "fig = pyplot.figure()\n",
    "ax = fig.add_subplot(1,1,1)\n",
    "ax.plot(a)\n",
    "ax.set_xlabel('Index')\n",
    "ax.set_ylabel('Value')\n",
    "# save to a file\n",
    "pyplot.savefig('NicePlot.png')\n",
    "# show the plot\n",
    "pyplot.show()"
   ]
  },
  {
   "cell_type": "markdown",
   "metadata": {},
   "source": [
    "## A better way\n",
    "1. Generate/collect your data and save it to a file someplace.\n",
    "2. Load this data and plot, save the plot."
   ]
  },
  {
   "cell_type": "markdown",
   "metadata": {},
   "source": [
    "Generating /collecting data could be done in another script but for now we do it in one cell."
   ]
  },
  {
   "cell_type": "code",
   "execution_count": null,
   "metadata": {},
   "outputs": [],
   "source": [
    "# make data\n",
    "a = np.random.normal(loc=0, scale=1, size=1000)\n",
    "# convert to a pandas data frame (see later for pandas intro)\n",
    "df = pd.DataFrame(data={'Numbers':a})\n",
    "# write to a csv file using a format that is easy to read (csv)\n",
    "df.to_csv('random_data.csv', index=False)"
   ]
  },
  {
   "cell_type": "markdown",
   "metadata": {},
   "source": [
    "Let's take a peek at the file to see what is in it."
   ]
  },
  {
   "cell_type": "code",
   "execution_count": null,
   "metadata": {},
   "outputs": [],
   "source": [
    "! head random_data.csv"
   ]
  },
  {
   "cell_type": "markdown",
   "metadata": {},
   "source": [
    "Now lets make a function to plot that data. Again this could be in a separate script, but we'll just use a separate cell."
   ]
  },
  {
   "cell_type": "code",
   "execution_count": null,
   "metadata": {
    "scrolled": true
   },
   "outputs": [],
   "source": [
    "def plot():\n",
    "    \"\"\"\n",
    "    Read a data file and plot it to another file.\n",
    "    \"\"\"\n",
    "    tab = pd.read_csv('random_data.csv')\n",
    "    data = tab['Numbers']\n",
    "    smoothed = scipy.ndimage.gaussian_filter1d(data, sigma=2)\n",
    "    \n",
    "    fig = pyplot.figure()\n",
    "    ax = fig.add_subplot(1,1,1)\n",
    "    ax.plot(a)\n",
    "    ax.set_xlabel('Index')\n",
    "    ax.set_ylabel('Value')\n",
    "    pyplot.savefig('NicePlot.png')\n",
    "    pyplot.show()\n",
    "    return\n",
    "\n",
    "plot()"
   ]
  },
  {
   "cell_type": "markdown",
   "metadata": {},
   "source": [
    "# Questions:\n",
    "\n",
    "If I want to use a different data set (maybe something that's not random junk), what do I need to change?\n",
    "\n",
    "If I want to save the file to a different location or use a different name, what do I need to change?\n",
    "\n",
    "If I have 10 input files, how to I automate reading all the data and saving all the figures?\n",
    "\n",
    "---\n",
    "\n",
    "The above solution is good, but we want to be able to re-use the function with different filenames without having to edit the code.\n",
    "\n",
    "How about we make the input/output filenames arguments to the function?"
   ]
  },
  {
   "cell_type": "code",
   "execution_count": null,
   "metadata": {},
   "outputs": [],
   "source": [
    "def plot(infile, outfile):\n",
    "    \"\"\"\n",
    "    Read a data file and plot it to another file.\n",
    "    \n",
    "    Parameters\n",
    "    ----------\n",
    "    infile : string\n",
    "        The input filename. Assume csv format.\n",
    "        Assumed to have a column called 'Numbers' that we are going to plot.\n",
    "        \n",
    "    outfile : string\n",
    "        The output filename. Should be .png or something that matplotlib\n",
    "        knows how to write\n",
    "    \"\"\"\n",
    "    tab = pd.read_csv(infile)\n",
    "    data = tab['Numbers']\n",
    "    smoothed = scipy.ndimage.gaussian_filter1d(data, sigma=2)\n",
    "    \n",
    "    fig = pyplot.figure()\n",
    "    ax = fig.add_subplot(1,1,1)\n",
    "    ax.plot(a)\n",
    "    ax.set_xlabel('Index')\n",
    "    ax.set_ylabel('Value')\n",
    "    pyplot.savefig(outfile)\n",
    "    return"
   ]
  },
  {
   "cell_type": "code",
   "execution_count": null,
   "metadata": {},
   "outputs": [],
   "source": [
    "plot(infile='random_data.csv',\n",
    "     outfile='NicePlot.png')"
   ]
  },
  {
   "cell_type": "markdown",
   "metadata": {},
   "source": [
    "## Solved?\n",
    "\n",
    "What other modifications would we need to make to this code so that we could have a greater control on the intput/output files?"
   ]
  }
 ],
 "metadata": {
  "kernelspec": {
   "display_name": "Python 3",
   "language": "python",
   "name": "python3"
  },
  "language_info": {
   "codemirror_mode": {
    "name": "ipython",
    "version": 3
   },
   "file_extension": ".py",
   "mimetype": "text/x-python",
   "name": "python",
   "nbconvert_exporter": "python",
   "pygments_lexer": "ipython3",
   "version": "3.8.10"
  }
 },
 "nbformat": 4,
 "nbformat_minor": 4
}
